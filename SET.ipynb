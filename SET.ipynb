{
  "nbformat": 4,
  "nbformat_minor": 0,
  "metadata": {
    "colab": {
      "provenance": []
    },
    "kernelspec": {
      "name": "python3",
      "display_name": "Python 3"
    },
    "language_info": {
      "name": "python"
    }
  },
  "cells": [
    {
      "cell_type": "code",
      "execution_count": 18,
      "metadata": {
        "colab": {
          "base_uri": "https://localhost:8080/"
        },
        "id": "i5bumGZtgAfs",
        "outputId": "bae87af6-f962-4f62-fd1c-66087fd1c93d"
      },
      "outputs": [
        {
          "output_type": "stream",
          "name": "stdout",
          "text": [
            "{1, 2, 3, 4, 5, 6, 7, 8, 9, 10, 11, 12, 13, 14, 15}\n",
            "{1, 2, 3, 4, 5, 6, 7, 8, 9, 10, 11, 12, 13, 14, 15}\n"
          ]
        }
      ],
      "source": [
        "#union using method\n",
        "set1={11,12,13,14,15}\n",
        "set2=6,7,8,9,10\n",
        "set3=[1,2,3,4,5]\n",
        "print(set1.union(set2).union(set3))\n",
        "#union using | operator\n",
        "set1={11,12,13,14,15}\n",
        "set2={6,7,8,9,10}\n",
        "set3={1,2,3,4,5}\n",
        "print(set1|set2|set3)"
      ]
    },
    {
      "cell_type": "code",
      "source": [
        "#intersection using method\n",
        "set1={0,3,4,2,5}\n",
        "set2={5,8,3,12,0}\n",
        "set3={9,10,0,6,3}\n",
        "print(set1.intersection(set2).intersection(set3))\n",
        "#intersection using & operator\n",
        "set1={0,3,4,2,5}\n",
        "set2={5,8,3,12,0}\n",
        "set3={9,10,0,6,3}\n",
        "print(set1&set2&set3)\n"
      ],
      "metadata": {
        "colab": {
          "base_uri": "https://localhost:8080/"
        },
        "id": "kyhnCVC2gvqn",
        "outputId": "4cfcabad-c66d-4c97-cc64-25072e1b6d27"
      },
      "execution_count": 24,
      "outputs": [
        {
          "output_type": "stream",
          "name": "stdout",
          "text": [
            "{0, 3}\n",
            "{0, 3}\n"
          ]
        }
      ]
    },
    {
      "cell_type": "code",
      "source": [
        "#difference using method\n",
        "set1={10,11,12,13,14}\n",
        "set2=[22,23,13,12,32]\n",
        "set3=13,16,22,14,16\n",
        "print(set1.difference(set2).difference(set3))\n",
        "#difference using - operator\n",
        "set1={10,11,12,13,14}\n",
        "set2={22,23,13,12,32}\n",
        "set3={13,16,22,14,16}\n",
        "print(set1-set2-set3)"
      ],
      "metadata": {
        "colab": {
          "base_uri": "https://localhost:8080/"
        },
        "id": "8hVGNh1cizSk",
        "outputId": "560d3194-d04e-4859-e4d6-baf2ba76da13"
      },
      "execution_count": 21,
      "outputs": [
        {
          "output_type": "stream",
          "name": "stdout",
          "text": [
            "{10, 11}\n",
            "{10, 11}\n"
          ]
        }
      ]
    }
  ]
}