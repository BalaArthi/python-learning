{
  "nbformat": 4,
  "nbformat_minor": 0,
  "metadata": {
    "colab": {
      "provenance": []
    },
    "kernelspec": {
      "name": "python3",
      "display_name": "Python 3"
    },
    "language_info": {
      "name": "python"
    }
  },
  "cells": [
    {
      "cell_type": "code",
      "execution_count": 1,
      "metadata": {
        "colab": {
          "base_uri": "https://localhost:8080/"
        },
        "id": "02P2XmOFm_JG",
        "outputId": "e48ddc52-afe2-4282-ff4f-68e5975cada7"
      },
      "outputs": [
        {
          "output_type": "stream",
          "name": "stdout",
          "text": [
            "[{'Name': 'Bala Arthi', 'Age': 22, 'city': 'Tirupur', 'level': 'N3'}]\n"
          ]
        }
      ],
      "source": [
        "dic=[\n",
        "    {'Name':'Bala Arthi',\n",
        "    'Age':22,\n",
        "    'city':'Tirupur',\n",
        "    'level':'N3',\n",
        "    }\n",
        "]\n",
        "print(dic)"
      ]
    }
  ]
}