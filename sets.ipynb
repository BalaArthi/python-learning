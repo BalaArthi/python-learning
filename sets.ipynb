{
  "nbformat": 4,
  "nbformat_minor": 0,
  "metadata": {
    "colab": {
      "provenance": []
    },
    "kernelspec": {
      "name": "python3",
      "display_name": "Python 3"
    },
    "language_info": {
      "name": "python"
    }
  },
  "cells": [
    {
      "cell_type": "code",
      "execution_count": 1,
      "metadata": {
        "colab": {
          "base_uri": "https://localhost:8080/"
        },
        "id": "d1dUIbEIUagq",
        "outputId": "3be2623f-8f59-4f25-c25a-800e4ba1bfaa"
      },
      "outputs": [
        {
          "output_type": "stream",
          "name": "stdout",
          "text": [
            "{1, 2, 3, 4, 5}\n"
          ]
        }
      ],
      "source": [
        "set={1,2,3,4,5}\n",
        "print(set)"
      ]
    },
    {
      "cell_type": "code",
      "source": [
        "set2={8,22,5.03,\"name\",True}\n",
        "print(set2)"
      ],
      "metadata": {
        "colab": {
          "base_uri": "https://localhost:8080/"
        },
        "id": "w_8MzgeBU7p8",
        "outputId": "de97a622-1492-4d12-cb3d-e72e6dc56928"
      },
      "execution_count": 3,
      "outputs": [
        {
          "output_type": "stream",
          "name": "stdout",
          "text": [
            "{True, 5.03, 22, 8, 'name'}\n"
          ]
        }
      ]
    }
  ]
}